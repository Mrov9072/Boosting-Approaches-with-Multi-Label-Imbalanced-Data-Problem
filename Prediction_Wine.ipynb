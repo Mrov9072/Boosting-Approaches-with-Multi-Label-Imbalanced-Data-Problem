{
 "cells": [
  {
   "cell_type": "code",
   "execution_count": 1,
   "metadata": {},
   "outputs": [],
   "source": [
    "from data_download import download_data\n",
    "from sklearn.tree import DecisionTreeClassifier\n",
    "from sklearn.model_selection import train_test_split"
   ]
  },
  {
   "cell_type": "code",
   "execution_count": 2,
   "metadata": {},
   "outputs": [],
   "source": [
    "X,y=download_data('wine')"
   ]
  },
  {
   "cell_type": "code",
   "execution_count": 3,
   "metadata": {},
   "outputs": [],
   "source": [
    "X_train, X_test, y_train, y_test =train_test_split(X,y,test_size=0.3)"
   ]
  },
  {
   "cell_type": "code",
   "execution_count": 4,
   "metadata": {},
   "outputs": [
    {
     "data": {
      "text/html": [
       "<style>#sk-container-id-1 {color: black;}#sk-container-id-1 pre{padding: 0;}#sk-container-id-1 div.sk-toggleable {background-color: white;}#sk-container-id-1 label.sk-toggleable__label {cursor: pointer;display: block;width: 100%;margin-bottom: 0;padding: 0.3em;box-sizing: border-box;text-align: center;}#sk-container-id-1 label.sk-toggleable__label-arrow:before {content: \"▸\";float: left;margin-right: 0.25em;color: #696969;}#sk-container-id-1 label.sk-toggleable__label-arrow:hover:before {color: black;}#sk-container-id-1 div.sk-estimator:hover label.sk-toggleable__label-arrow:before {color: black;}#sk-container-id-1 div.sk-toggleable__content {max-height: 0;max-width: 0;overflow: hidden;text-align: left;background-color: #f0f8ff;}#sk-container-id-1 div.sk-toggleable__content pre {margin: 0.2em;color: black;border-radius: 0.25em;background-color: #f0f8ff;}#sk-container-id-1 input.sk-toggleable__control:checked~div.sk-toggleable__content {max-height: 200px;max-width: 100%;overflow: auto;}#sk-container-id-1 input.sk-toggleable__control:checked~label.sk-toggleable__label-arrow:before {content: \"▾\";}#sk-container-id-1 div.sk-estimator input.sk-toggleable__control:checked~label.sk-toggleable__label {background-color: #d4ebff;}#sk-container-id-1 div.sk-label input.sk-toggleable__control:checked~label.sk-toggleable__label {background-color: #d4ebff;}#sk-container-id-1 input.sk-hidden--visually {border: 0;clip: rect(1px 1px 1px 1px);clip: rect(1px, 1px, 1px, 1px);height: 1px;margin: -1px;overflow: hidden;padding: 0;position: absolute;width: 1px;}#sk-container-id-1 div.sk-estimator {font-family: monospace;background-color: #f0f8ff;border: 1px dotted black;border-radius: 0.25em;box-sizing: border-box;margin-bottom: 0.5em;}#sk-container-id-1 div.sk-estimator:hover {background-color: #d4ebff;}#sk-container-id-1 div.sk-parallel-item::after {content: \"\";width: 100%;border-bottom: 1px solid gray;flex-grow: 1;}#sk-container-id-1 div.sk-label:hover label.sk-toggleable__label {background-color: #d4ebff;}#sk-container-id-1 div.sk-serial::before {content: \"\";position: absolute;border-left: 1px solid gray;box-sizing: border-box;top: 0;bottom: 0;left: 50%;z-index: 0;}#sk-container-id-1 div.sk-serial {display: flex;flex-direction: column;align-items: center;background-color: white;padding-right: 0.2em;padding-left: 0.2em;position: relative;}#sk-container-id-1 div.sk-item {position: relative;z-index: 1;}#sk-container-id-1 div.sk-parallel {display: flex;align-items: stretch;justify-content: center;background-color: white;position: relative;}#sk-container-id-1 div.sk-item::before, #sk-container-id-1 div.sk-parallel-item::before {content: \"\";position: absolute;border-left: 1px solid gray;box-sizing: border-box;top: 0;bottom: 0;left: 50%;z-index: -1;}#sk-container-id-1 div.sk-parallel-item {display: flex;flex-direction: column;z-index: 1;position: relative;background-color: white;}#sk-container-id-1 div.sk-parallel-item:first-child::after {align-self: flex-end;width: 50%;}#sk-container-id-1 div.sk-parallel-item:last-child::after {align-self: flex-start;width: 50%;}#sk-container-id-1 div.sk-parallel-item:only-child::after {width: 0;}#sk-container-id-1 div.sk-dashed-wrapped {border: 1px dashed gray;margin: 0 0.4em 0.5em 0.4em;box-sizing: border-box;padding-bottom: 0.4em;background-color: white;}#sk-container-id-1 div.sk-label label {font-family: monospace;font-weight: bold;display: inline-block;line-height: 1.2em;}#sk-container-id-1 div.sk-label-container {text-align: center;}#sk-container-id-1 div.sk-container {/* jupyter's `normalize.less` sets `[hidden] { display: none; }` but bootstrap.min.css set `[hidden] { display: none !important; }` so we also need the `!important` here to be able to override the default hidden behavior on the sphinx rendered scikit-learn.org. See: https://github.com/scikit-learn/scikit-learn/issues/21755 */display: inline-block !important;position: relative;}#sk-container-id-1 div.sk-text-repr-fallback {display: none;}</style><div id=\"sk-container-id-1\" class=\"sk-top-container\"><div class=\"sk-text-repr-fallback\"><pre>DecisionTreeClassifier(max_depth=5, random_state=42)</pre><b>In a Jupyter environment, please rerun this cell to show the HTML representation or trust the notebook. <br />On GitHub, the HTML representation is unable to render, please try loading this page with nbviewer.org.</b></div><div class=\"sk-container\" hidden><div class=\"sk-item\"><div class=\"sk-estimator sk-toggleable\"><input class=\"sk-toggleable__control sk-hidden--visually\" id=\"sk-estimator-id-1\" type=\"checkbox\" checked><label for=\"sk-estimator-id-1\" class=\"sk-toggleable__label sk-toggleable__label-arrow\">DecisionTreeClassifier</label><div class=\"sk-toggleable__content\"><pre>DecisionTreeClassifier(max_depth=5, random_state=42)</pre></div></div></div></div></div>"
      ],
      "text/plain": [
       "DecisionTreeClassifier(max_depth=5, random_state=42)"
      ]
     },
     "execution_count": 4,
     "metadata": {},
     "output_type": "execute_result"
    }
   ],
   "source": [
    "model_tree=DecisionTreeClassifier(max_depth=5,random_state=42)\n",
    "model_tree.fit(X_train,y_train)"
   ]
  },
  {
   "cell_type": "code",
   "execution_count": 5,
   "metadata": {},
   "outputs": [
    {
     "name": "stdout",
     "output_type": "stream",
     "text": [
      "0.8703703703703703 0.8702997429160665 0.8703703703703703 0.8712411471032161\n",
      "              precision    recall  f1-score   support\n",
      "\n",
      "           1       0.86      0.86      0.86        14\n",
      "           2       0.86      0.89      0.88        28\n",
      "           3       0.91      0.83      0.87        12\n",
      "\n",
      "    accuracy                           0.87        54\n",
      "   macro avg       0.88      0.86      0.87        54\n",
      "weighted avg       0.87      0.87      0.87        54\n",
      "\n"
     ]
    }
   ],
   "source": [
    "from sklearn.metrics import accuracy_score, precision_score, recall_score, f1_score, classification_report\n",
    "y_pred_tree=model_tree.predict(X_test)\n",
    "accuracy = accuracy_score(y_test, y_pred_tree)\n",
    "accuracy_f1=f1 = f1_score(y_test, y_pred_tree, average='weighted')\n",
    "recall = recall_score(y_test, y_pred_tree, average='weighted')\n",
    "precision = precision_score(y_test, y_pred_tree, average='weighted')\n",
    "print(accuracy,accuracy_f1,recall,precision)\n",
    "print(classification_report(y_test,y_pred_tree))"
   ]
  },
  {
   "cell_type": "code",
   "execution_count": 6,
   "metadata": {},
   "outputs": [
    {
     "name": "stderr",
     "output_type": "stream",
     "text": [
      "d:\\ML_Project\\.venv\\lib\\site-packages\\sklearn\\base.py:1152: DataConversionWarning: A column-vector y was passed when a 1d array was expected. Please change the shape of y to (n_samples,), for example using ravel().\n",
      "  return fit_method(estimator, *args, **kwargs)\n"
     ]
    },
    {
     "name": "stdout",
     "output_type": "stream",
     "text": [
      "Random Forest Classifier Metrics:\n",
      "Accuracy: 0.9814814814814815\n",
      "Precision: 0.982716049382716\n",
      "Recall: 0.9814814814814815\n",
      "F1 Score: 0.9816324161151747\n",
      "\n",
      "Classification Report:\n",
      "              precision    recall  f1-score   support\n",
      "\n",
      "           1       0.93      1.00      0.97        14\n",
      "           2       1.00      0.96      0.98        28\n",
      "           3       1.00      1.00      1.00        12\n",
      "\n",
      "    accuracy                           0.98        54\n",
      "   macro avg       0.98      0.99      0.98        54\n",
      "weighted avg       0.98      0.98      0.98        54\n",
      "\n"
     ]
    }
   ],
   "source": [
    "from sklearn.ensemble import RandomForestClassifier\n",
    "rf_clf = RandomForestClassifier(n_estimators=100, random_state=42)\n",
    "\n",
    "# Train the classifier on the training data\n",
    "rf_clf.fit(X_train, y_train)\n",
    "\n",
    "# Make predictions on the testing data\n",
    "y_pred_rf = rf_clf.predict(X_test)\n",
    "\n",
    "# Calculate various metrics\n",
    "accuracy_rf = accuracy_score(y_test, y_pred_rf)\n",
    "precision_rf = precision_score(y_test, y_pred_rf, average='weighted')\n",
    "recall_rf = recall_score(y_test, y_pred_rf, average='weighted')\n",
    "f1_rf = f1_score(y_test, y_pred_rf, average='weighted')\n",
    "\n",
    "# Print the metrics\n",
    "print(\"Random Forest Classifier Metrics:\")\n",
    "print(\"Accuracy:\", accuracy_rf)\n",
    "print(\"Precision:\", precision_rf)\n",
    "print(\"Recall:\", recall_rf)\n",
    "print(\"F1 Score:\", f1_rf)\n",
    "\n",
    "# Classification report\n",
    "print(\"\\nClassification Report:\")\n",
    "print(classification_report(y_test, y_pred_rf))\n"
   ]
  },
  {
   "cell_type": "code",
   "execution_count": 7,
   "metadata": {},
   "outputs": [
    {
     "name": "stderr",
     "output_type": "stream",
     "text": [
      "d:\\ML_Project\\.venv\\lib\\site-packages\\sklearn\\utils\\validation.py:1183: DataConversionWarning: A column-vector y was passed when a 1d array was expected. Please change the shape of y to (n_samples, ), for example using ravel().\n",
      "  y = column_or_1d(y, warn=True)\n"
     ]
    },
    {
     "name": "stdout",
     "output_type": "stream",
     "text": [
      "AdaBoost Classifier Metrics:\n",
      "Accuracy: 0.9259259259259259\n",
      "Precision: 0.9371543489190549\n",
      "Recall: 0.9259259259259259\n",
      "F1 Score: 0.9261354654903042\n",
      "\n",
      "Classification Report for AdaBoost:\n",
      "              precision    recall  f1-score   support\n",
      "\n",
      "           1       0.82      1.00      0.90        14\n",
      "           2       1.00      0.86      0.92        28\n",
      "           3       0.92      1.00      0.96        12\n",
      "\n",
      "    accuracy                           0.93        54\n",
      "   macro avg       0.92      0.95      0.93        54\n",
      "weighted avg       0.94      0.93      0.93        54\n",
      "\n"
     ]
    },
    {
     "name": "stderr",
     "output_type": "stream",
     "text": [
      "d:\\ML_Project\\.venv\\lib\\site-packages\\sklearn\\ensemble\\_gb.py:424: DataConversionWarning: A column-vector y was passed when a 1d array was expected. Please change the shape of y to (n_samples, ), for example using ravel().\n",
      "  y = column_or_1d(y, warn=True)\n"
     ]
    },
    {
     "name": "stdout",
     "output_type": "stream",
     "text": [
      "\n",
      "Gradient Boosting Classifier Metrics:\n",
      "Accuracy: 0.9444444444444444\n",
      "Precision: 0.9462277091906721\n",
      "Recall: 0.9444444444444444\n",
      "F1 Score: 0.9448972483455242\n",
      "\n",
      "Classification Report for Gradient Boosting:\n",
      "              precision    recall  f1-score   support\n",
      "\n",
      "           1       0.87      0.93      0.90        14\n",
      "           2       0.96      0.93      0.95        28\n",
      "           3       1.00      1.00      1.00        12\n",
      "\n",
      "    accuracy                           0.94        54\n",
      "   macro avg       0.94      0.95      0.95        54\n",
      "weighted avg       0.95      0.94      0.94        54\n",
      "\n"
     ]
    }
   ],
   "source": [
    "from sklearn.ensemble import AdaBoostClassifier, GradientBoostingClassifier\n",
    "\n",
    "# Initialize the AdaBoost classifier\n",
    "adaboost_clf = AdaBoostClassifier(n_estimators=100, random_state=42)\n",
    "\n",
    "# Train the AdaBoost classifier on the training data\n",
    "adaboost_clf.fit(X_train, y_train)\n",
    "\n",
    "# Make predictions on the testing data using AdaBoost\n",
    "y_pred_adaboost = adaboost_clf.predict(X_test)\n",
    "\n",
    "# Calculate various metrics for AdaBoost\n",
    "accuracy_adaboost = accuracy_score(y_test, y_pred_adaboost)\n",
    "precision_adaboost = precision_score(y_test, y_pred_adaboost, average='weighted')\n",
    "recall_adaboost = recall_score(y_test, y_pred_adaboost, average='weighted')\n",
    "f1_adaboost = f1_score(y_test, y_pred_adaboost, average='weighted')\n",
    "\n",
    "# Print the metrics for AdaBoost\n",
    "print(\"AdaBoost Classifier Metrics:\")\n",
    "print(\"Accuracy:\", accuracy_adaboost)\n",
    "print(\"Precision:\", precision_adaboost)\n",
    "print(\"Recall:\", recall_adaboost)\n",
    "print(\"F1 Score:\", f1_adaboost)\n",
    "\n",
    "# Classification report for AdaBoost\n",
    "print(\"\\nClassification Report for AdaBoost:\")\n",
    "print(classification_report(y_test, y_pred_adaboost))\n",
    "\n",
    "# Initialize the Gradient Boosting classifier\n",
    "gradientboost_clf = GradientBoostingClassifier(n_estimators=100, random_state=42)\n",
    "\n",
    "# Train the Gradient Boosting classifier on the training data\n",
    "gradientboost_clf.fit(X_train, y_train)\n",
    "\n",
    "# Make predictions on the testing data using Gradient Boosting\n",
    "y_pred_gradientboost = gradientboost_clf.predict(X_test)\n",
    "\n",
    "# Calculate various metrics for Gradient Boosting\n",
    "accuracy_gradientboost = accuracy_score(y_test, y_pred_gradientboost)\n",
    "precision_gradientboost = precision_score(y_test, y_pred_gradientboost, average='weighted')\n",
    "recall_gradientboost = recall_score(y_test, y_pred_gradientboost, average='weighted')\n",
    "f1_gradientboost = f1_score(y_test, y_pred_gradientboost, average='weighted')\n",
    "\n",
    "# Print the metrics for Gradient Boosting\n",
    "print(\"\\nGradient Boosting Classifier Metrics:\")\n",
    "print(\"Accuracy:\", accuracy_gradientboost)\n",
    "print(\"Precision:\", precision_gradientboost)\n",
    "print(\"Recall:\", recall_gradientboost)\n",
    "print(\"F1 Score:\", f1_gradientboost)\n",
    "\n",
    "# Classification report for Gradient Boosting\n",
    "print(\"\\nClassification Report for Gradient Boosting:\")\n",
    "print(classification_report(y_test, y_pred_gradientboost))\n"
   ]
  },
  {
   "cell_type": "code",
   "execution_count": 8,
   "metadata": {},
   "outputs": [
    {
     "name": "stdout",
     "output_type": "stream",
     "text": [
      "Confusion Matrix for Decision tree:\n",
      "[[12  2  0]\n",
      " [ 2 25  1]\n",
      " [ 0  2 10]]\n",
      "Confusion Matrix for Random Forest:\n",
      "[[14  0  0]\n",
      " [ 1 27  0]\n",
      " [ 0  0 12]]\n",
      "\n",
      "Confusion Matrix for AdaBoost:\n",
      "[[14  0  0]\n",
      " [ 3 24  1]\n",
      " [ 0  0 12]]\n",
      "\n",
      "Confusion Matrix for Gradient Boosting:\n",
      "[[13  1  0]\n",
      " [ 2 26  0]\n",
      " [ 0  0 12]]\n"
     ]
    }
   ],
   "source": [
    "from sklearn.metrics import confusion_matrix\n",
    "\n",
    "# Compute confusion matrix for Decision Tree\n",
    "conf_matrix_tr = confusion_matrix(y_test, y_pred_tree)\n",
    "print(\"Confusion Matrix for Decision tree:\")\n",
    "print(conf_matrix_tr)\n",
    "\n",
    "\n",
    "# Compute confusion matrix for Random Forest\n",
    "conf_matrix_rf = confusion_matrix(y_test, y_pred_rf)\n",
    "print(\"Confusion Matrix for Random Forest:\")\n",
    "print(conf_matrix_rf)\n",
    "\n",
    "# Compute confusion matrix for AdaBoost\n",
    "conf_matrix_adaboost = confusion_matrix(y_test, y_pred_adaboost)\n",
    "print(\"\\nConfusion Matrix for AdaBoost:\")\n",
    "print(conf_matrix_adaboost)\n",
    "\n",
    "# Compute confusion matrix for Gradient Boosting\n",
    "conf_matrix_gradientboost = confusion_matrix(y_test, y_pred_gradientboost)\n",
    "print(\"\\nConfusion Matrix for Gradient Boosting:\")\n",
    "print(conf_matrix_gradientboost)\n"
   ]
  }
 ],
 "metadata": {
  "kernelspec": {
   "display_name": ".venv",
   "language": "python",
   "name": "python3"
  },
  "language_info": {
   "codemirror_mode": {
    "name": "ipython",
    "version": 3
   },
   "file_extension": ".py",
   "mimetype": "text/x-python",
   "name": "python",
   "nbconvert_exporter": "python",
   "pygments_lexer": "ipython3",
   "version": "3.8.10"
  }
 },
 "nbformat": 4,
 "nbformat_minor": 2
}
