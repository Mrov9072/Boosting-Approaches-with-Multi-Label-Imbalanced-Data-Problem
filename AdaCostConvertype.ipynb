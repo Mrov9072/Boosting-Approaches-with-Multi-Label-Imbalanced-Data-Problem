{
 "cells": [
  {
   "cell_type": "code",
   "execution_count": 1,
   "metadata": {},
   "outputs": [],
   "source": [
    "from sklearn.model_selection import train_test_split\n",
    "from sklearn.datasets import fetch_covtype\n",
    "from sklearn.metrics import accuracy_score, precision_score, recall_score, f1_score, classification_report\n",
    "from utils import *\n",
    "from imblearn.over_sampling import RandomOverSampler\n",
    "from imblearn.under_sampling import RandomUnderSampler\n",
    "import pandas as pd\n",
    "from adacost import AdaCost\n"
   ]
  },
  {
   "cell_type": "code",
   "execution_count": 2,
   "metadata": {},
   "outputs": [
    {
     "name": "stdout",
     "output_type": "stream",
     "text": [
      "(581012, 54) (581012,)\n"
     ]
    }
   ],
   "source": [
    "covertype = fetch_covtype() # https://archive.ics.uci.edu/dataset/31/covertype\n",
    "X = covertype.data\n",
    "y = covertype.target\n",
    "print(X.shape,y.shape)"
   ]
  },
  {
   "cell_type": "code",
   "execution_count": 3,
   "metadata": {},
   "outputs": [
    {
     "name": "stdout",
     "output_type": "stream",
     "text": [
      "(464809, 54),(464809,),(464809, 54),(464809,)\n"
     ]
    }
   ],
   "source": [
    "X_train,X_test,y_train,y_test  = train_test_split(X,y,test_size=0.2,random_state=42)\n",
    "print(f\"{X_train.shape},{y_train.shape},{X_train.shape},{y_train.shape}\")"
   ]
  },
  {
   "cell_type": "code",
   "execution_count": 4,
   "metadata": {},
   "outputs": [
    {
     "name": "stdout",
     "output_type": "stream",
     "text": [
      "Initial class distribution:\n",
      "target\n",
      "2    283301\n",
      "1    211840\n",
      "3     35754\n",
      "7     20510\n",
      "6     17367\n",
      "5      9493\n",
      "4      2747\n",
      "Name: count, dtype: int64\n",
      "\n",
      "Class distribution after under-sampling:\n",
      "target\n",
      "1    2747\n",
      "2    2747\n",
      "3    2747\n",
      "4    2747\n",
      "5    2747\n",
      "6    2747\n",
      "7    2747\n",
      "Name: count, dtype: int64\n",
      "\n",
      "Class distribution after over-sampling:\n",
      "target\n",
      "5    283301\n",
      "2    283301\n",
      "1    283301\n",
      "7    283301\n",
      "3    283301\n",
      "6    283301\n",
      "4    283301\n",
      "Name: count, dtype: int64\n",
      "Y_Ros: (1983107,), Y_Rus: (19229,)\n"
     ]
    }
   ],
   "source": [
    "df = pd.DataFrame(X)\n",
    "df['target'] = y\n",
    "\n",
    "# Display the imbalance\n",
    "print(\"Initial class distribution:\")\n",
    "print(df['target'].value_counts())\n",
    "\n",
    "# Step 2: Apply Random Under-sampling\n",
    "rus = RandomUnderSampler(random_state=42)\n",
    "X_rus, y_rus = rus.fit_resample(X, y)\n",
    "\n",
    "# Convert the results back to a DataFrame\n",
    "df_rus = pd.DataFrame(X_rus)\n",
    "df_rus['target'] = y_rus\n",
    "\n",
    "# Step 3: Apply Random Over-sampling\n",
    "ros = RandomOverSampler(random_state=42)\n",
    "X_ros, y_ros = ros.fit_resample(X, y)\n",
    "df_ros = pd.DataFrame(X_ros)\n",
    "df_ros['target'] = y_ros\n",
    "\n",
    "# Print the class distributions after resampling\n",
    "print(\"\\nClass distribution after under-sampling:\")\n",
    "print(df_rus['target'].value_counts())\n",
    "\n",
    "print(\"\\nClass distribution after over-sampling:\")\n",
    "print(df_ros['target'].value_counts())\n",
    "print(f\"Y_Ros: {y_ros.shape}, Y_Rus: {y_rus.shape}\")\n",
    "# Convert the results back to a DataFrame"
   ]
  },
  {
   "cell_type": "code",
   "execution_count": 5,
   "metadata": {},
   "outputs": [
    {
     "name": "stdout",
     "output_type": "stream",
     "text": [
      "(1586485, 54),(1586485,),(15383, 54),(15383,)\n"
     ]
    }
   ],
   "source": [
    "X_train_ros,X_test_ros,y_train_ros,y_test_ros  = train_test_split(X_ros,y_ros,test_size=0.2,random_state=42)\n",
    "X_train_rus,X_test_rus,y_train_rus,y_test_rus  = train_test_split(X_rus,y_rus,test_size=0.2,random_state=42)\n",
    "print(f\"{X_train_ros.shape},{y_train_ros.shape},{X_train_rus.shape},{y_train_rus.shape}\")"
   ]
  },
  {
   "cell_type": "code",
   "execution_count": 6,
   "metadata": {},
   "outputs": [
    {
     "name": "stdout",
     "output_type": "stream",
     "text": [
      "Fitting 5 folds for each of 30 candidates, totalling 150 fits\n"
     ]
    }
   ],
   "source": [
    "from sklearn.model_selection import GridSearchCV\n",
    "ada_ros = AdaCost(algorithm = \"SAMME.R\",random_state = 100)\n",
    "cv = GridSearchCV(ada_ros,\n",
    "                  param_grid = {'learning_rate':[0.01,0.05,0.1,0.25,0.5,1],'n_estimators':[10,20,50,100,200]},\n",
    "                  verbose = 1, \n",
    "                  n_jobs = 1)\n",
    "cv.fit(X_train_ros,y_train_ros)\n",
    "cv.best_params_,cv.best_score_\n",
    "ada_cv_ros = cv.best_estimator_\n",
    "print(cv.best_estimator_)\n",
    "y_pred_ros = ada_cv_ros.predict(X_test_ros)"
   ]
  },
  {
   "cell_type": "code",
   "execution_count": null,
   "metadata": {},
   "outputs": [],
   "source": [
    "accuracy_acost_ros = accuracy_score(y_test_ros, y_pred_ros)\n",
    "precision_acost_ros = precision_score(y_test_ros, y_pred_ros, average='weighted')\n",
    "recall_acost_ros = recall_score(y_test_ros, y_pred_ros, average='weighted')\n",
    "f1_acost_ros = f1_score(y_test_ros, y_pred_ros, average='weighted')\n",
    "print(\"AdaCost Classifier Metrics with RUS:\")\n",
    "print(\"Accuracy:\", accuracy_acost_ros)\n",
    "print(\"Precision:\", precision_acost_ros)\n",
    "print(\"Recall:\", recall_acost_ros)\n",
    "print(\"Weighted F1 Score:\", recall_acost_ros)\n",
    "print(classification_report(y_true=y_test_ros,y_pred=y_pred_ros))"
   ]
  },
  {
   "cell_type": "code",
   "execution_count": null,
   "metadata": {},
   "outputs": [],
   "source": [
    "from sklearn.model_selection import GridSearchCV\n",
    "ada = AdaCost(algorithm = \"SAMME.R\",random_state = 100)\n",
    "cv = GridSearchCV(ada,\n",
    "                  param_grid = {'learning_rate':[0.01,0.05,0.1,0.25,0.5,1],'n_estimators':[10,20,50,100,200]},\n",
    "                  verbose = 1, \n",
    "                  n_jobs = 1)\n",
    "cv.fit(X_train,y_train)\n",
    "cv.best_params_,cv.best_score_\n",
    "ada_cv = cv.best_estimator_\n",
    "print(cv.best_estimator_)\n",
    "y_pred = ada_cv.predict(X_test)"
   ]
  },
  {
   "cell_type": "code",
   "execution_count": null,
   "metadata": {},
   "outputs": [],
   "source": [
    "accuracy_acost = accuracy_score(y_test, y_pred)\n",
    "precision_acost = precision_score(y_test, y_pred, average='weighted')\n",
    "recall_acost = recall_score(y_test, y_pred, average='weighted')\n",
    "f1_acost = f1_score(y_test, y_pred, average='weighted')\n",
    "print(\"AdaCost Classifier Metrics with RUS:\")\n",
    "print(\"Accuracy:\", accuracy_acost)\n",
    "print(\"Precision:\", precision_acost)\n",
    "print(\"Recall:\", recall_acost)\n",
    "print(\"Weighted F1 Score:\", recall_acost)\n",
    "print(classification_report(y_true=y_test,y_pred=y_pred))"
   ]
  }
 ],
 "metadata": {
  "kernelspec": {
   "display_name": ".venv",
   "language": "python",
   "name": "python3"
  },
  "language_info": {
   "codemirror_mode": {
    "name": "ipython",
    "version": 3
   },
   "file_extension": ".py",
   "mimetype": "text/x-python",
   "name": "python",
   "nbconvert_exporter": "python",
   "pygments_lexer": "ipython3",
   "version": "3.11.8"
  }
 },
 "nbformat": 4,
 "nbformat_minor": 2
}
